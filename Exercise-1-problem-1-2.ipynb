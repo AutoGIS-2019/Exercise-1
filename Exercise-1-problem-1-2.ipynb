{
 "cells": [
  {
   "cell_type": "markdown",
   "metadata": {
    "deletable": false,
    "editable": false,
    "nbgrader": {
     "cell_type": "markdown",
     "checksum": "bf292f4bf6d0b7fca6b846448b2fbcba",
     "grade": false,
     "grade_id": "title",
     "locked": true,
     "schema_version": 3,
     "solution": false
    }
   },
   "source": [
    "# Exercise 1: Working with Geometric Objects\n",
    "\n",
    "This week we will practice how to create geometric objects using Shapely module and how to find out different useful attributes from those geometries. We will take advantage of what we have learned earlier, specifically functions, that you should use for making different GIS operations easier to use in the future. We will also use pandas to read data from a file."
   ]
  },
  {
   "cell_type": "markdown",
   "metadata": {
    "deletable": false,
    "editable": false,
    "nbgrader": {
     "cell_type": "markdown",
     "checksum": "607e0740af2af718576bf67c39fb0f7b",
     "grade": false,
     "grade_id": "point_function_instructions",
     "locked": true,
     "schema_version": 3,
     "solution": false
    }
   },
   "source": [
    "## Problem 1: Creating basic geometries (*5 points*)\n",
    "\n",
    "\n",
    "1: Create a function called `create_point_geom()` that has two parameters (x_coord, y_coord). Function should create a shapely `Point` geometry object and return that. \n",
    "   "
   ]
  },
  {
   "cell_type": "code",
   "execution_count": null,
   "metadata": {
    "deletable": false,
    "nbgrader": {
     "cell_type": "code",
     "checksum": "a7ac82261a0b9a898a4c4b4fa8780bdb",
     "grade": false,
     "grade_id": "point_geom",
     "locked": false,
     "schema_version": 3,
     "solution": true
    }
   },
   "outputs": [],
   "source": [
    "# YOUR CODE HERE\n",
    "raise NotImplementedError()"
   ]
  },
  {
   "cell_type": "markdown",
   "metadata": {},
   "source": [
    "Test your function by running these code cells:"
   ]
  },
  {
   "cell_type": "code",
   "execution_count": null,
   "metadata": {
    "deletable": false,
    "editable": false,
    "nbgrader": {
     "cell_type": "code",
     "checksum": "37520a031b095fcab5d83f3f3701ead5",
     "grade": true,
     "grade_id": "problem_1_function_test",
     "locked": true,
     "points": 0.5,
     "schema_version": 3,
     "solution": false
    }
   },
   "outputs": [],
   "source": [
    "# Demonstrate the usage of the function:\n",
    "point1 = create_point_geom(0.0, 1.1)"
   ]
  },
  {
   "cell_type": "code",
   "execution_count": null,
   "metadata": {
    "deletable": false,
    "editable": false,
    "nbgrader": {
     "cell_type": "code",
     "checksum": "0665d12def0f375340e478fdc309df07",
     "grade": true,
     "grade_id": "problem_1_parameter_test",
     "locked": true,
     "points": 0.5,
     "schema_version": 3,
     "solution": false,
     "task": false
    }
   },
   "outputs": [],
   "source": [
    "#Check the point object\n",
    "print(point1)"
   ]
  },
  {
   "cell_type": "code",
   "execution_count": null,
   "metadata": {
    "deletable": false,
    "editable": false,
    "nbgrader": {
     "cell_type": "code",
     "checksum": "3e3e60142ad71a29d19bf90eca5080f1",
     "grade": true,
     "grade_id": "problem_1_point_geom_test",
     "locked": true,
     "points": 0.5,
     "schema_version": 3,
     "solution": false,
     "task": false
    }
   },
   "outputs": [],
   "source": [
    "# Check data type\n",
    "print(point1.geom_type)"
   ]
  },
  {
   "cell_type": "markdown",
   "metadata": {
    "deletable": false,
    "editable": false,
    "nbgrader": {
     "cell_type": "markdown",
     "checksum": "b73f2fb873bba0315ca067838c5be8d7",
     "grade": false,
     "grade_id": "line_function_instructions",
     "locked": true,
     "schema_version": 3,
     "solution": false
    }
   },
   "source": [
    "2: Create a function called **`create_line_geom()`** that takes a list of Shapely Point objects as parameter called **`points`** and returns a LineString object of those input points. In addition, you should take care that the function is used as it should:\n",
    "\n",
    "  - Inside the function, you should first check with `assert` -functionality that the input is a **list** (see [lesson 6 from the Geo-Python course](https://geo-python.github.io/site/lessons/L6/interpreting-errors.html#assertions) and [hints for this exercise](https://automating-gis-processes.github.io/site/lessons/L1/ex-1.html#hints)). If something else than a list is passed for the function, you should return an Error message: `\"Input should be a list!\"`\n",
    "  - You should also check with `assert` that the input list contains **at least** two values. If not, return an Error message: `\"LineString object requires at least two Points!\"`\n",
    "  - Optional: Finally, you should check with `assert` that all values in the input list are truly Shapely Points. If not, return an Error message: `\"All list values should be Shapely Point objects!\"`\n",
    "  "
   ]
  },
  {
   "cell_type": "code",
   "execution_count": null,
   "metadata": {
    "deletable": false,
    "nbgrader": {
     "cell_type": "code",
     "checksum": "dea9d99d7d1efc9830d0c375fa147493",
     "grade": false,
     "grade_id": "line_geom",
     "locked": false,
     "schema_version": 3,
     "solution": true
    }
   },
   "outputs": [],
   "source": [
    "# YOUR CODE HERE\n",
    "raise NotImplementedError()"
   ]
  },
  {
   "cell_type": "markdown",
   "metadata": {},
   "source": [
    "Demonstrate the usage of your function:"
   ]
  },
  {
   "cell_type": "code",
   "execution_count": null,
   "metadata": {
    "deletable": false,
    "nbgrader": {
     "cell_type": "code",
     "checksum": "24e59eff002c1c54c5ea550a8a4ce28d",
     "grade": false,
     "grade_id": "demonstrate_line_geom",
     "locked": false,
     "schema_version": 3,
     "solution": true,
     "task": false
    }
   },
   "outputs": [],
   "source": [
    "# Create a line with two points: Point(45.2, 22.34) & Point(100.22, -3.20)\n",
    "line1 = None\n",
    "# YOUR CODE HERE\n",
    "raise NotImplementedError()"
   ]
  },
  {
   "cell_type": "code",
   "execution_count": null,
   "metadata": {
    "deletable": false,
    "editable": false,
    "nbgrader": {
     "cell_type": "code",
     "checksum": "b2e819180e14aca02dd7b32cb98c4795",
     "grade": true,
     "grade_id": "problem_1_line_function_test",
     "locked": true,
     "points": 0.5,
     "schema_version": 3,
     "solution": false,
     "task": false
    }
   },
   "outputs": [],
   "source": [
    "print(line1)"
   ]
  },
  {
   "cell_type": "code",
   "execution_count": null,
   "metadata": {
    "deletable": false,
    "editable": false,
    "nbgrader": {
     "cell_type": "code",
     "checksum": "898cf48e89efa647806783db4343322c",
     "grade": true,
     "grade_id": "problem_1_line_geom_test",
     "locked": true,
     "points": 0.5,
     "schema_version": 3,
     "solution": false,
     "task": false
    }
   },
   "outputs": [],
   "source": [
    "print(line1.geom_type)"
   ]
  },
  {
   "cell_type": "markdown",
   "metadata": {},
   "source": [
    "Check if your function checks the length of the input correctly by running this code cell:"
   ]
  },
  {
   "cell_type": "code",
   "execution_count": null,
   "metadata": {
    "deletable": false,
    "editable": false,
    "nbgrader": {
     "cell_type": "code",
     "checksum": "a5de36b18d95e4b227b5dc805bf8bd27",
     "grade": true,
     "grade_id": "problem_1_line_assertion_test",
     "locked": true,
     "points": 0.5,
     "schema_version": 3,
     "solution": false,
     "task": false
    }
   },
   "outputs": [],
   "source": [
    "try:\n",
    "    # Pass something else than a list\n",
    "    create_line_geom(\"Give me a line!\")\n",
    "except AssertionError:\n",
    "    print(\"List check works\")\n",
    "except Exception as e:\n",
    "    raise e\n"
   ]
  },
  {
   "cell_type": "markdown",
   "metadata": {
    "deletable": false,
    "editable": false,
    "nbgrader": {
     "cell_type": "markdown",
     "checksum": "ed9c63d773371cdf827e8df2635dcc05",
     "grade": false,
     "grade_id": "poly_function_instructions",
     "locked": true,
     "schema_version": 3,
     "solution": false
    }
   },
   "source": [
    "3: Create a function called **`create_poly_geom()`** that has one parameter called **`coords`**. `coords` parameter contain a list of Shapely Point objects. The function should create and return a Polygon object of the input data.  \n",
    "\n",
    "  - Inside the function, you should first check with `assert` -functionality that the input is a **list** (see [lesson 6](https://geo-python.github.io/2018/lessons/L6/interpreting-errors.html#assertions) and [hints](https://automating-gis-processes.github.io/2018/lessons/L1/ex-1.html#hints)). If something else than a list is passed for the function, you should return an Error message: `\"Input should be a list!\"`\n",
    "  - You should also check with `assert` that the input list contains **at least** three values. If not, return an Error message: `\"Polygon object requires at least three Points!\"`\n",
    "  - Optional: Finally, you should check with assert that all values in the input list are Shapely Points or tuples. If not, return an Error message: \"All list values should be Shapely Point objects!\"\n",
    "  "
   ]
  },
  {
   "cell_type": "code",
   "execution_count": null,
   "metadata": {
    "deletable": false,
    "nbgrader": {
     "cell_type": "code",
     "checksum": "435649a3c649f2a1c0d3960c80da84ec",
     "grade": false,
     "grade_id": "poly_geom",
     "locked": false,
     "schema_version": 3,
     "solution": true
    }
   },
   "outputs": [],
   "source": [
    "# YOUR CODE HERE\n",
    "raise NotImplementedError()"
   ]
  },
  {
   "cell_type": "markdown",
   "metadata": {},
   "source": [
    "Demonstrate the usage of the function:"
   ]
  },
  {
   "cell_type": "code",
   "execution_count": null,
   "metadata": {
    "deletable": false,
    "nbgrader": {
     "cell_type": "code",
     "checksum": "862b0ef8a4c8a682579761f065c1fed5",
     "grade": false,
     "grade_id": "demonstrate_poly_geom",
     "locked": false,
     "schema_version": 3,
     "solution": true,
     "task": false
    }
   },
   "outputs": [],
   "source": [
    "# Create a Polygon with three points: Point(45.2, 22.34) & Point(100.22, -3.20) & Point(70.0, 10.20)\n",
    "poly1 = None\n",
    "# YOUR CODE HERE\n",
    "raise NotImplementedError()"
   ]
  },
  {
   "cell_type": "code",
   "execution_count": null,
   "metadata": {
    "deletable": false,
    "editable": false,
    "nbgrader": {
     "cell_type": "code",
     "checksum": "383e8f310a4ea04b8e3f62986e41267c",
     "grade": true,
     "grade_id": "problem_1_poly_function_tests",
     "locked": true,
     "points": 0.5,
     "schema_version": 3,
     "solution": false
    }
   },
   "outputs": [],
   "source": [
    "print(poly1)"
   ]
  },
  {
   "cell_type": "code",
   "execution_count": null,
   "metadata": {
    "deletable": false,
    "editable": false,
    "nbgrader": {
     "cell_type": "code",
     "checksum": "906b4ff6c64d7ecaaa0d7f1954ae5012",
     "grade": true,
     "grade_id": "problem_1_poly_geom_tests",
     "locked": true,
     "points": 0.5,
     "schema_version": 3,
     "solution": false,
     "task": false
    }
   },
   "outputs": [],
   "source": [
    "print(poly1.geom_type)"
   ]
  },
  {
   "cell_type": "markdown",
   "metadata": {},
   "source": [
    "Check if your function checks the length of the input correctly by running this code cell:"
   ]
  },
  {
   "cell_type": "code",
   "execution_count": null,
   "metadata": {
    "deletable": false,
    "editable": false,
    "nbgrader": {
     "cell_type": "code",
     "checksum": "bf1f3e1c687f6f167761e3801b2e74fd",
     "grade": true,
     "grade_id": "problem_1_poly_assertion_tests",
     "locked": true,
     "points": 0.5,
     "schema_version": 3,
     "solution": false,
     "task": false
    }
   },
   "outputs": [],
   "source": [
    "try:\n",
    "    # Pass something else than a list\n",
    "    create_poly_geom(\"Give me a polygon\")\n",
    "except AssertionError:\n",
    "    print(\"List check works\")\n",
    "except Exception as e:\n",
    "    raise e"
   ]
  },
  {
   "cell_type": "markdown",
   "metadata": {
    "deletable": false,
    "editable": false,
    "nbgrader": {
     "cell_type": "markdown",
     "checksum": "d26801844abddbf1f7baac1df8e6c26e",
     "grade": false,
     "grade_id": "done_1",
     "locked": true,
     "schema_version": 3,
     "solution": false
    }
   },
   "source": [
    "- Upload the codes and edits to your **own** personal GitHub repository for Exercise-1\n",
    "\n",
    "## Done!\n",
    "\n",
    "That's it. Now you are ready to continue with Problem 2. "
   ]
  },
  {
   "cell_type": "markdown",
   "metadata": {
    "deletable": false,
    "editable": false,
    "nbgrader": {
     "cell_type": "markdown",
     "checksum": "3e222973150868bd30c6b2bc1bceedc4",
     "grade": false,
     "grade_id": "get_centroid_instructions",
     "locked": true,
     "schema_version": 3,
     "solution": false
    }
   },
   "source": [
    "## Problem 2: Attributes of geometries (*5 points*)\n",
    "\n",
    "1: Create a function called `get_centroid()` that has one parameter called `geom`. The function should take any kind of Shapely's geometric -object as an input, and return a centroid of that geometry. In addition, you should take care that the function is used as it should:\n",
    "\n",
    "  - Inside the function, you should first check with `assert` -functionality that the input is a Shapely Point, LineString or Polygon geometry (see [lesson 6](https://geo-python.github.io/2018/lessons/L6/interpreting-errors.html#assertions) and [hints](https://automating-gis-processes.github.io/2018/lessons/L1/ex-1.html#hints)). If something else than a list is passed for the function, you should return an Error message: `\"Input should be a Shapely geometry!\"`\n"
   ]
  },
  {
   "cell_type": "code",
   "execution_count": null,
   "metadata": {
    "deletable": false,
    "nbgrader": {
     "cell_type": "code",
     "checksum": "6608f58940623f1eb0cf8365e1964b48",
     "grade": false,
     "grade_id": "centroid",
     "locked": false,
     "schema_version": 3,
     "solution": true
    }
   },
   "outputs": [],
   "source": [
    "# YOUR CODE HERE\n",
    "raise NotImplementedError()"
   ]
  },
  {
   "cell_type": "markdown",
   "metadata": {},
   "source": [
    "Demonstrate the usage of the function: "
   ]
  },
  {
   "cell_type": "code",
   "execution_count": null,
   "metadata": {},
   "outputs": [],
   "source": [
    "#create shapely objects using the functions you created in problem 1 and print out information about their centroid:\n"
   ]
  },
  {
   "cell_type": "code",
   "execution_count": null,
   "metadata": {
    "deletable": false,
    "editable": false,
    "nbgrader": {
     "cell_type": "code",
     "checksum": "a0c0e9828d09d35a8d61a713ae7f3d31",
     "grade": true,
     "grade_id": "problem_2_centroid_test",
     "locked": true,
     "points": 1,
     "schema_version": 3,
     "solution": false
    }
   },
   "outputs": [],
   "source": [
    "# Check centroid of poly1:\n",
    "centroid = get_centroid(poly1)\n",
    "print(centroid)"
   ]
  },
  {
   "cell_type": "markdown",
   "metadata": {},
   "source": [
    "Check that the assertion error works correctly:"
   ]
  },
  {
   "cell_type": "code",
   "execution_count": null,
   "metadata": {
    "deletable": false,
    "editable": false,
    "nbgrader": {
     "cell_type": "code",
     "checksum": "81f5ac41b5a0748cc5079254dc7b295b",
     "grade": true,
     "grade_id": "problem_2_centroid_assertion_test",
     "locked": true,
     "points": 0.5,
     "schema_version": 3,
     "solution": false,
     "task": false
    }
   },
   "outputs": [],
   "source": [
    "try:\n",
    "    # Pass something else than a Shapely geometry\n",
    "    get_centroid(\"Give me a centroid!\")\n",
    "except AssertionError:\n",
    "    print(\"Geometry -check works\")\n",
    "except Exception as e:\n",
    "    raise e"
   ]
  },
  {
   "cell_type": "markdown",
   "metadata": {
    "deletable": false,
    "editable": false,
    "nbgrader": {
     "cell_type": "markdown",
     "checksum": "63c13e5bdad88c707be03c68f90e54c2",
     "grade": false,
     "grade_id": "cell-f852a6d46065d4e2",
     "locked": true,
     "schema_version": 3,
     "solution": false
    }
   },
   "source": [
    "2: Create a function called `get_area()` with one parameter called `polygon`. Function should take a Shapely's Polygon -object as input and returns the area of that geometry. \n",
    "   \n",
    "   - Inside the function, you should first check with `assert` -functionality that the input is a Shapely Polygon geometry (see [lesson 6](https://geo-python.github.io/2018/lessons/L6/interpreting-errors.html#assertions) and [hints](https://automating-gis-processes.github.io/2018/lessons/L1/ex-1.html#hints)). If something else than a list is passed for the function, you should return an Error message: `\"Input should be a Shapely Polygon -object!\"`"
   ]
  },
  {
   "cell_type": "code",
   "execution_count": null,
   "metadata": {
    "deletable": false,
    "nbgrader": {
     "cell_type": "code",
     "checksum": "58b09a73892303caf1ab94de058507b5",
     "grade": false,
     "grade_id": "area",
     "locked": false,
     "schema_version": 3,
     "solution": true
    }
   },
   "outputs": [],
   "source": [
    "# YOUR CODE HERE\n",
    "raise NotImplementedError()"
   ]
  },
  {
   "cell_type": "markdown",
   "metadata": {},
   "source": [
    "Test and demonstrate the usage of the function:"
   ]
  },
  {
   "cell_type": "code",
   "execution_count": null,
   "metadata": {},
   "outputs": [],
   "source": []
  },
  {
   "cell_type": "code",
   "execution_count": null,
   "metadata": {
    "deletable": false,
    "editable": false,
    "nbgrader": {
     "cell_type": "code",
     "checksum": "e5cbfc67289f1d79a492391276b1c7ca",
     "grade": true,
     "grade_id": "problem_2_area_test",
     "locked": true,
     "points": 1.5,
     "schema_version": 3,
     "solution": false
    }
   },
   "outputs": [],
   "source": [
    "# Get the area of poly1\n",
    "area = get_area(poly1)\n",
    "print(round(area, 2))"
   ]
  },
  {
   "cell_type": "markdown",
   "metadata": {},
   "source": [
    "Check that the assertion works:"
   ]
  },
  {
   "cell_type": "code",
   "execution_count": null,
   "metadata": {
    "deletable": false,
    "editable": false,
    "nbgrader": {
     "cell_type": "code",
     "checksum": "ca785229a93e32e98eaec1ad594f2e42",
     "grade": true,
     "grade_id": "problem_2_area_assertion_test",
     "locked": true,
     "points": 0,
     "schema_version": 3,
     "solution": false,
     "task": false
    }
   },
   "outputs": [],
   "source": [
    "try:\n",
    "    # Pass something else than a Shapely geometry\n",
    "    get_area(\"Give me an area!\")\n",
    "except AssertionError:\n",
    "    print(\"Geometry -check works\")\n",
    "except Exception as e:\n",
    "    raise e"
   ]
  },
  {
   "cell_type": "markdown",
   "metadata": {
    "deletable": false,
    "editable": false,
    "nbgrader": {
     "cell_type": "markdown",
     "checksum": "a560403652704cf926a9de8fab5bd0e9",
     "grade": false,
     "grade_id": "cell-df3c925f923bf1dd",
     "locked": true,
     "schema_version": 3,
     "solution": false
    }
   },
   "source": [
    "3: Create a function called `get_length()` with parameter called `geom`. The function should accept either a Shapely LineString or Polygon -object as input. Function should check the type of the input and returns the length of \n",
    "the line if input is LineString and length of the exterior ring if input is Polygon. If something else is passed to the function, you should return an `Error` `\"'geom' should be either LineString or Polygon!\"`. (Use assert functionality). \n"
   ]
  },
  {
   "cell_type": "code",
   "execution_count": null,
   "metadata": {
    "deletable": false,
    "nbgrader": {
     "cell_type": "code",
     "checksum": "69f2b855aff5b9164d6f75545a57398c",
     "grade": false,
     "grade_id": "length",
     "locked": false,
     "schema_version": 3,
     "solution": true
    }
   },
   "outputs": [],
   "source": [
    "# YOUR CODE HERE\n",
    "raise NotImplementedError()"
   ]
  },
  {
   "cell_type": "markdown",
   "metadata": {},
   "source": [
    "Test and demonstrate the usage of the function:"
   ]
  },
  {
   "cell_type": "code",
   "execution_count": null,
   "metadata": {},
   "outputs": [],
   "source": []
  },
  {
   "cell_type": "code",
   "execution_count": null,
   "metadata": {
    "deletable": false,
    "editable": false,
    "nbgrader": {
     "cell_type": "code",
     "checksum": "2551b0a41abdaa4fbd375dc0f7c3967f",
     "grade": true,
     "grade_id": "problem_2_lenght_test",
     "locked": true,
     "points": 1,
     "schema_version": 3,
     "solution": false
    }
   },
   "outputs": [],
   "source": [
    "# Get length of line1\n",
    "line_length = get_length(line1)\n",
    "print(\"Line length:\", round(line_length,2))"
   ]
  },
  {
   "cell_type": "code",
   "execution_count": null,
   "metadata": {
    "deletable": false,
    "editable": false,
    "nbgrader": {
     "cell_type": "code",
     "checksum": "bb08285fe8df07a5fb1ed1e559ed3866",
     "grade": true,
     "grade_id": "problem_2_poly_length_test",
     "locked": true,
     "points": 0.5,
     "schema_version": 3,
     "solution": false,
     "task": false
    }
   },
   "outputs": [],
   "source": [
    "poly_exterior_length = get_length(poly1)\n",
    "print(\"Polygon exterior length:\", round(poly_exterior_length,2))"
   ]
  },
  {
   "cell_type": "code",
   "execution_count": null,
   "metadata": {
    "deletable": false,
    "editable": false,
    "nbgrader": {
     "cell_type": "code",
     "checksum": "e8c039f7144b26820bc80d5484ac789e",
     "grade": true,
     "grade_id": "problem_2_length_assertion_test",
     "locked": true,
     "points": 0.5,
     "schema_version": 3,
     "solution": false,
     "task": false
    }
   },
   "outputs": [],
   "source": [
    "try:\n",
    "    # Pass something else than a Shapely LineString or Polygon\n",
    "    get_length(Point(1,2))\n",
    "except AssertionError:\n",
    "    print(\"Geometry -check works\")\n",
    "except Exception as e:\n",
    "    raise e"
   ]
  },
  {
   "cell_type": "markdown",
   "metadata": {},
   "source": [
    "## Docstrings\n",
    "\n",
    "Did you add a docstring to all the functions you defined? If not, add them now :) A short one-line docstring is enough in this exercise."
   ]
  },
  {
   "cell_type": "markdown",
   "metadata": {
    "deletable": false,
    "nbgrader": {
     "cell_type": "markdown",
     "checksum": "fec902d628c3bc4bef5d7eefbf44364d",
     "grade": true,
     "grade_id": "ceck_docstrings",
     "locked": false,
     "points": 0,
     "schema_version": 3,
     "solution": true,
     "task": false
    }
   },
   "source": [
    "YOUR ANSWER HERE"
   ]
  },
  {
   "cell_type": "markdown",
   "metadata": {},
   "source": [
    "In addition, you can run the code cell below to check all the docstrings!"
   ]
  },
  {
   "cell_type": "code",
   "execution_count": null,
   "metadata": {
    "deletable": false,
    "editable": false,
    "nbgrader": {
     "cell_type": "code",
     "checksum": "9fa587cbcaf0ab592119a87882a5ffb2",
     "grade": true,
     "grade_id": "problem_2_docstring_test",
     "locked": true,
     "points": 0.5,
     "schema_version": 3,
     "solution": false,
     "task": false
    }
   },
   "outputs": [],
   "source": [
    "# List all functions we created\n",
    "functions = [create_point_geom, create_line_geom, create_line_geom, create_poly_geom, create_poly_geom, get_centroid,\n",
    "            get_centroid, get_area, get_area, get_length]\n",
    "\n",
    "print(\"I created functions for doing these tasks:\\n\")\n",
    "\n",
    "for function in functions:\n",
    "    #Print function name and docstring:\n",
    "    print(\"-\", function.__name__ +\":\", function.__doc__)"
   ]
  },
  {
   "cell_type": "markdown",
   "metadata": {
    "deletable": false,
    "editable": false,
    "nbgrader": {
     "cell_type": "markdown",
     "checksum": "5b172231a2989163fffb7ecf0bb64127",
     "grade": false,
     "grade_id": "done_2",
     "locked": true,
     "schema_version": 3,
     "solution": false
    }
   },
   "source": [
    "- Upload the codes and edits to your **own** personal GitHub repository for Exercise-1.\n",
    "\n",
    "## Done!\n",
    "\n",
    "That's it. Now you are ready to continue with Problem 3. "
   ]
  }
 ],
 "metadata": {
  "kernelspec": {
   "display_name": "Python 3",
   "language": "python",
   "name": "python3"
  },
  "language_info": {
   "codemirror_mode": {
    "name": "ipython",
    "version": 3
   },
   "file_extension": ".py",
   "mimetype": "text/x-python",
   "name": "python",
   "nbconvert_exporter": "python",
   "pygments_lexer": "ipython3",
   "version": "3.7.4"
  }
 },
 "nbformat": 4,
 "nbformat_minor": 2
}
